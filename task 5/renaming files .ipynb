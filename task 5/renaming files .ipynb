{
 "cells": [
  {
   "cell_type": "code",
   "execution_count": 4,
   "metadata": {},
   "outputs": [
    {
     "data": {
      "text/plain": [
       "True"
      ]
     },
     "execution_count": 4,
     "metadata": {},
     "output_type": "execute_result"
    }
   ],
   "source": [
    "import os\n",
    "import random\n",
    "os.getcwd()\n",
    "os.path.exists('E:\\\\proj\\\\test2\\\\pict')"
   ]
  },
  {
   "cell_type": "code",
   "execution_count": 5,
   "metadata": {},
   "outputs": [],
   "source": [
    " def renaming_files (_path,new_name,exp):\n",
    "    \n",
    "    for (i,file) in enumerate(os.listdir(_path)):\n",
    "   \n",
    "        new_files=os.rename(src=file,dst='{}{}{}'.format(new_name,i,exp))\n",
    "        \n",
    "    return new_files ,print(os.listdir(_path))"
   ]
  },
  {
   "cell_type": "code",
   "execution_count": 6,
   "metadata": {},
   "outputs": [
    {
     "name": "stdout",
     "output_type": "stream",
     "text": [
      "['new_picture0.png', 'new_picture1.png', 'new_picture10.png', 'new_picture11.png', 'new_picture12.png', 'new_picture13.png', 'new_picture14.png', 'new_picture15.png', 'new_picture16.png', 'new_picture17.png', 'new_picture18.png', 'new_picture19.png', 'new_picture2.png', 'new_picture20.png', 'new_picture21.png', 'new_picture22.png', 'new_picture23.png', 'new_picture24.png', 'new_picture25.png', 'new_picture26.png', 'new_picture27.png', 'new_picture28.png', 'new_picture29.png', 'new_picture3.png', 'new_picture30.png', 'new_picture31.png', 'new_picture32.png', 'new_picture33.png', 'new_picture34.png', 'new_picture35.png', 'new_picture36.png', 'new_picture37.png', 'new_picture38.png', 'new_picture39.png', 'new_picture4.png', 'new_picture40.png', 'new_picture41.png', 'new_picture42.png', 'new_picture43.png', 'new_picture44.png', 'new_picture45.png', 'new_picture46.png', 'new_picture47.png', 'new_picture48.png', 'new_picture49.png', 'new_picture5.png', 'new_picture50.png', 'new_picture51.png', 'new_picture6.png', 'new_picture7.png', 'new_picture8.png', 'new_picture9.png']\n"
     ]
    },
    {
     "data": {
      "text/plain": [
       "(None, None)"
      ]
     },
     "execution_count": 6,
     "metadata": {},
     "output_type": "execute_result"
    }
   ],
   "source": [
    "renaming_files('E:\\\\proj\\\\test2\\\\pict',\"new_picture\",\".png\")"
   ]
  },
  {
   "cell_type": "code",
   "execution_count": null,
   "metadata": {},
   "outputs": [],
   "source": []
  }
 ],
 "metadata": {
  "kernelspec": {
   "display_name": "Python 3",
   "language": "python",
   "name": "python3"
  },
  "language_info": {
   "codemirror_mode": {
    "name": "ipython",
    "version": 3
   },
   "file_extension": ".py",
   "mimetype": "text/x-python",
   "name": "python",
   "nbconvert_exporter": "python",
   "pygments_lexer": "ipython3",
   "version": "3.7.6"
  }
 },
 "nbformat": 4,
 "nbformat_minor": 4
}
